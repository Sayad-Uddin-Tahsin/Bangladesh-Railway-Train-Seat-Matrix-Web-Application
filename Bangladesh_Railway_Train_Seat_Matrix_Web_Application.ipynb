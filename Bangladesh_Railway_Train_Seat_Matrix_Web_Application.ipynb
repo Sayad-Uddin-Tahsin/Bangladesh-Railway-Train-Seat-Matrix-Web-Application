{
  "nbformat": 4,
  "nbformat_minor": 0,
  "metadata": {
    "colab": {
      "provenance": []
    },
    "kernelspec": {
      "name": "python3",
      "display_name": "Python 3"
    },
    "language_info": {
      "name": "python"
    }
  },
  "cells": [
    {
      "cell_type": "code",
      "source": [
        "!rm -rf *\n",
        "!git clone https://github.com/nishatrhythm/Bangladesh-Railway-Train-Seat-Matrix-Web-Application.git\n",
        "!mv Bangladesh-Railway-Train-Seat-Matrix-Web-Application/* .\n",
        "!rm -rf Bangladesh-Railway-Train-Seat-Matrix-Web-Application\n",
        "!pip install -r requirements.txt\n",
        "\n",
        "!nohup python app.py --debug &\n",
        "from IPython.display import clear_output\n",
        "clear_output()\n",
        "!ssh -o StrictHostKeyChecking=no -R 80:localhost:5000 serveo.net"
      ],
      "metadata": {
        "id": "AzeAuMz0dksi"
      },
      "execution_count": null,
      "outputs": []
    },
    {
      "cell_type": "code",
      "source": [],
      "metadata": {
        "id": "jBun3OfZiRCp"
      },
      "execution_count": null,
      "outputs": []
    }
  ]
}
