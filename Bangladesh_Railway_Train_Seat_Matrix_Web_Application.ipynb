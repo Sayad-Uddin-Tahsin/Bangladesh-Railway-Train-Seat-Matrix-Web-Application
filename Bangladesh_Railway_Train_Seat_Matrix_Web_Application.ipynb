{
  "nbformat": 4,
  "nbformat_minor": 0,
  "metadata": {
    "colab": {
      "provenance": []
    },
    "kernelspec": {
      "name": "python3",
      "display_name": "Python 3"
    },
    "language_info": {
      "name": "python"
    }
  },
  "cells": [
    {
      "cell_type": "markdown",
      "source": [
        "# 🚆 Bangladesh Railway Train Seat Matrix Web Application\n",
        "\n",
        "A comprehensive web application to visualize **segmented seat availability** and **fare matrices** for Bangladesh Railway trains. This tool supports **direct and segmented ticketing analysis**, smart routing algorithms, and real-time availability tracking — all built using **Flask**, **Vanilla JS**, and **REST APIs**.\n",
        "\n",
        "---\n",
        "\n",
        "## 📌 What is This?\n",
        "\n",
        "This is a **Google Colaboratory (Colab)**-based project designed to run the entire web application **in the cloud**, without requiring any local setup. It lets you **bypass the queue** and access the app instantly via a public URL. It's like running the project locally — but from anywhere, with no installation hassle.\n",
        "\n",
        "---\n",
        "\n",
        "## ▶️ How to Use\n",
        "\n",
        "Just run the provided chunk of code in a Colab cell to:\n",
        "\n",
        "1. **Clean the current directory** (removes default Colab files).\n",
        "2. **Clone the GitHub repository** at lightning speed.\n",
        "3. **Install all necessary dependencies** from [`requirements.txt`](https://github.com/nishatrhythm/Bangladesh-Railway-Train-Seat-Matrix-Web-Application/blob/main/requirements.txt).\n",
        "4. **Run the Flask app** in the background.\n",
        "5. **Create a public tunnel** using Serveo to access the app from anywhere.\n",
        "\n",
        "---\n",
        "\n",
        "## ⚙️ What Happens When I Run It?\n",
        "\n",
        "Running the code does all of the above in one go — no downloading or uploading needed!\n",
        "\n",
        "Once completed, you’ll see output like this in the console:\n",
        "\n",
        "```console\n",
        "Forwarding HTTP traffic from https://2c98c46aba6d9a6a65a66014f0818c83.serveo.net\n",
        "```\n",
        "✅ Click that link to open the live web interface in your browser.\n",
        "\n",
        "Enjoy fast and easy access to Bangladesh Railway train data — anytime, anywhere!"
      ],
      "metadata": {
        "id": "wLzVjb2nq4bz"
      }
    },
    {
      "cell_type": "code",
      "source": [
        "!rm -rf *\n",
        "!git clone https://github.com/nishatrhythm/Bangladesh-Railway-Train-Seat-Matrix-Web-Application.git\n",
        "!mv Bangladesh-Railway-Train-Seat-Matrix-Web-Application/* .\n",
        "!rm -rf Bangladesh-Railway-Train-Seat-Matrix-Web-Application\n",
        "!pip install -r requirements.txt\n",
        "\n",
        "!nohup python app.py --debug &\n",
        "from IPython.display import clear_output\n",
        "clear_output()\n",
        "!ssh -o StrictHostKeyChecking=no -R 80:localhost:5000 serveo.net"
      ],
      "metadata": {
        "id": "AzeAuMz0dksi",
        "collapsed": true
      },
      "execution_count": null,
      "outputs": []
    }
  ]
}