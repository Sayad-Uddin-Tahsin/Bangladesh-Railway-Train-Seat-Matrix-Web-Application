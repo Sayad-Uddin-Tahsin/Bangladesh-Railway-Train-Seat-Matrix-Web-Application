{
  "nbformat": 4,
  "nbformat_minor": 0,
  "metadata": {
    "colab": {
      "provenance": [],
      "authorship_tag": "ABX9TyMIamU0YCHnOOdv+ZQMFXYJ",
      "include_colab_link": true
    },
    "kernelspec": {
      "name": "python3",
      "display_name": "Python 3"
    },
    "language_info": {
      "name": "python"
    }
  },
  "cells": [
    {
      "cell_type": "markdown",
      "metadata": {
        "id": "view-in-github",
        "colab_type": "text"
      },
      "source": [
        "<a href=\"https://colab.research.google.com/github/Sayad-Uddin-Tahsin/Bangladesh-Railway-Train-Seat-Matrix-Web-Application/blob/Google-Colab-Run/Bangladesh_Railway_Train_Seat_Matrix_Web_Application.ipynb\" target=\"_parent\"><img src=\"https://colab.research.google.com/assets/colab-badge.svg\" alt=\"Open In Colab\"/></a>"
      ]
    },
    {
      "cell_type": "code",
      "source": [
        "!rm -rf *\n",
        "!git clone https://github.com/nishatrhythm/Bangladesh-Railway-Train-Seat-Matrix-Web-Application.git\n",
        "!mv Bangladesh-Railway-Train-Seat-Matrix-Web-Application/* .\n",
        "!rm -rf Bangladesh-Railway-Train-Seat-Matrix-Web-Application\n",
        "!pip install -r requirements.txt\n",
        "\n",
        "!nohup python app.py --debug &\n",
        "from IPython.display import clear_output\n",
        "clear_output()\n",
        "!ssh -o StrictHostKeyChecking=no -R 80:localhost:5000 serveo.net"
      ],
      "metadata": {
        "id": "AzeAuMz0dksi"
      },
      "execution_count": null,
      "outputs": []
    }
  ]
}