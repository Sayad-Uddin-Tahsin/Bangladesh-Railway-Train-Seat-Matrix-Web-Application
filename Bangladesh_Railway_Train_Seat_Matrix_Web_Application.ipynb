{
  "nbformat": 4,
  "nbformat_minor": 0,
  "metadata": {
    "colab": {
      "provenance": [],
      "authorship_tag": "ABX9TyMhN9YVUshDeCIPFy8/DydD",
      "include_colab_link": true
    },
    "kernelspec": {
      "name": "python3",
      "display_name": "Python 3"
    },
    "language_info": {
      "name": "python"
    }
  },
  "cells": [
    {
      "cell_type": "markdown",
      "metadata": {
        "id": "view-in-github",
        "colab_type": "text"
      },
      "source": [
        "<a href=\"https://colab.research.google.com/github/Sayad-Uddin-Tahsin/Bangladesh-Railway-Train-Seat-Matrix-Web-Application/blob/Google-Colab-Run/Bangladesh_Railway_Train_Seat_Matrix_Web_Application.ipynb\" target=\"_parent\"><img src=\"https://colab.research.google.com/assets/colab-badge.svg\" alt=\"Open In Colab\"/></a>"
      ]
    },
    {
      "cell_type": "code",
      "source": [
        "!rm -rf *\n",
        "!git clone https://github.com/nishatrhythm/Bangladesh-Railway-Train-Seat-Matrix-Web-Application.git\n",
        "!mv Bangladesh-Railway-Train-Seat-Matrix-Web-Application/* .\n",
        "!rm -rf Bangladesh-Railway-Train-Seat-Matrix-Web-Application\n",
        "!pip install -r requirements.txt\n",
        "\n",
        "!nohup python app.py --debug &\n",
        "from IPython.display import clear_output\n",
        "clear_output()\n",
        "!ssh -o StrictHostKeyChecking=no -R 80:localhost:5000 serveo.net"
      ],
      "metadata": {
        "colab": {
          "base_uri": "https://localhost:8080/"
        },
        "id": "AzeAuMz0dksi",
        "outputId": "d9c3e6c2-8770-4b25-99eb-007acc87a498"
      },
      "execution_count": 11,
      "outputs": [
        {
          "output_type": "stream",
          "name": "stdout",
          "text": [
            "----------\n",
            "\u001b[32mForwarding HTTP traffic from https://db2f2472af5ee52811541345dacd7fab.serveo.net\n",
            "\u001b[0m"
          ]
        }
      ]
    },
    {
      "cell_type": "code",
      "source": [],
      "metadata": {
        "id": "jBun3OfZiRCp"
      },
      "execution_count": null,
      "outputs": []
    }
  ]
}